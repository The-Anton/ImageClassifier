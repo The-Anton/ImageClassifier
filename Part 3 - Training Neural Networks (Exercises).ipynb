{
 "cells": [
  {
   "cell_type": "markdown",
   "metadata": {},
   "source": [
    "# Training Neural Networks\n",
    "\n",
    "The network we built in the previous part isn't so smart, it doesn't know anything about our handwritten digits. Neural networks with non-linear activations work like universal function approximators. There is some function that maps your input to the output. For example, images of handwritten digits to class probabilities. The power of neural networks is that we can train them to approximate this function, and basically any function given enough data and compute time.\n",
    "\n",
    "<img src=\"assets/function_approx.png\" width=500px>\n",
    "\n",
    "At first the network is naive, it doesn't know the function mapping the inputs to the outputs. We train the network by showing it examples of real data, then adjusting the network parameters such that it approximates this function.\n",
    "\n",
    "To find these parameters, we need to know how poorly the network is predicting the real outputs. For this we calculate a **loss function** (also called the cost), a measure of our prediction error. For example, the mean squared loss is often used in regression and binary classification problems\n",
    "\n",
    "$$\n",
    "\\large \\ell = \\frac{1}{2n}\\sum_i^n{\\left(y_i - \\hat{y}_i\\right)^2}\n",
    "$$\n",
    "\n",
    "where $n$ is the number of training examples, $y_i$ are the true labels, and $\\hat{y}_i$ are the predicted labels.\n",
    "\n",
    "By minimizing this loss with respect to the network parameters, we can find configurations where the loss is at a minimum and the network is able to predict the correct labels with high accuracy. We find this minimum using a process called **gradient descent**. The gradient is the slope of the loss function and points in the direction of fastest change. To get to the minimum in the least amount of time, we then want to follow the gradient (downwards). You can think of this like descending a mountain by following the steepest slope to the base.\n",
    "\n",
    "<img src='assets/gradient_descent.png' width=350px>"
   ]
  },
  {
   "cell_type": "markdown",
   "metadata": {},
   "source": [
    "## Backpropagation\n",
    "\n",
    "For single layer networks, gradient descent is straightforward to implement. However, it's more complicated for deeper, multilayer neural networks like the one we've built. Complicated enough that it took about 30 years before researchers figured out how to train multilayer networks.\n",
    "\n",
    "Training multilayer networks is done through **backpropagation** which is really just an application of the chain rule from calculus. It's easiest to understand if we convert a two layer network into a graph representation.\n",
    "\n",
    "<img src='assets/backprop_diagram.png' width=550px>\n",
    "\n",
    "In the forward pass through the network, our data and operations go from bottom to top here. We pass the input $x$ through a linear transformation $L_1$ with weights $W_1$ and biases $b_1$. The output then goes through the sigmoid operation $S$ and another linear transformation $L_2$. Finally we calculate the loss $\\ell$. We use the loss as a measure of how bad the network's predictions are. The goal then is to adjust the weights and biases to minimize the loss.\n",
    "\n",
    "To train the weights with gradient descent, we propagate the gradient of the loss backwards through the network. Each operation has some gradient between the inputs and outputs. As we send the gradients backwards, we multiply the incoming gradient with the gradient for the operation. Mathematically, this is really just calculating the gradient of the loss with respect to the weights using the chain rule.\n",
    "\n",
    "$$\n",
    "\\large \\frac{\\partial \\ell}{\\partial W_1} = \\frac{\\partial L_1}{\\partial W_1} \\frac{\\partial S}{\\partial L_1} \\frac{\\partial L_2}{\\partial S} \\frac{\\partial \\ell}{\\partial L_2}\n",
    "$$\n",
    "\n",
    "**Note:** I'm glossing over a few details here that require some knowledge of vector calculus, but they aren't necessary to understand what's going on.\n",
    "\n",
    "We update our weights using this gradient with some learning rate $\\alpha$. \n",
    "\n",
    "$$\n",
    "\\large W^\\prime_1 = W_1 - \\alpha \\frac{\\partial \\ell}{\\partial W_1}\n",
    "$$\n",
    "\n",
    "The learning rate $\\alpha$ is set such that the weight update steps are small enough that the iterative method settles in a minimum."
   ]
  },
  {
   "cell_type": "markdown",
   "metadata": {},
   "source": [
    "## Losses in PyTorch\n",
    "\n",
    "Let's start by seeing how we calculate the loss with PyTorch. Through the `nn` module, PyTorch provides losses such as the cross-entropy loss (`nn.CrossEntropyLoss`). You'll usually see the loss assigned to `criterion`. As noted in the last part, with a classification problem such as MNIST, we're using the softmax function to predict class probabilities. With a softmax output, you want to use cross-entropy as the loss. To actually calculate the loss, you first define the criterion then pass in the output of your network and the correct labels.\n",
    "\n",
    "Something really important to note here. Looking at [the documentation for `nn.CrossEntropyLoss`](https://pytorch.org/docs/stable/nn.html#torch.nn.CrossEntropyLoss),\n",
    "\n",
    "> This criterion combines `nn.LogSoftmax()` and `nn.NLLLoss()` in one single class.\n",
    ">\n",
    "> The input is expected to contain scores for each class.\n",
    "\n",
    "This means we need to pass in the raw output of our network into the loss, not the output of the softmax function. This raw output is usually called the *logits* or *scores*. We use the logits because softmax gives you probabilities which will often be very close to zero or one but floating-point numbers can't accurately represent values near zero or one ([read more here](https://docs.python.org/3/tutorial/floatingpoint.html)). It's usually best to avoid doing calculations with probabilities, typically we use log-probabilities."
   ]
  },
  {
   "cell_type": "code",
   "execution_count": 29,
   "metadata": {},
   "outputs": [],
   "source": [
    "import torch\n",
    "from torch import nn\n",
    "import torch.nn.functional as F\n",
    "from torchvision import datasets, transforms\n",
    "\n",
    "# Define a transform to normalize the data\n",
    "transform = transforms.Compose([transforms.ToTensor(),\n",
    "                                transforms.Normalize((0.5, 0.5, 0.5), (0.5, 0.5, 0.5)),\n",
    "                              ])\n",
    "# Download and load the training data\n",
    "trainset = datasets.MNIST('~/.pytorch/MNIST_data/', download=True, train=True, transform=transform)\n",
    "trainloader = torch.utils.data.DataLoader(trainset, batch_size=64, shuffle=True)"
   ]
  },
  {
   "cell_type": "markdown",
   "metadata": {},
   "source": [
    "### Note\n",
    "If you haven't seen `nn.Sequential` yet, please finish the end of the Part 2 notebook."
   ]
  },
  {
   "cell_type": "code",
   "execution_count": 30,
   "metadata": {},
   "outputs": [
    {
     "name": "stdout",
     "output_type": "stream",
     "text": [
      "tensor([[ 0.0102, -0.0238, -0.0723, -0.0379,  0.1774, -0.0608,  0.1123,\n",
      "          0.1724, -0.0119,  0.0991],\n",
      "        [ 0.0015, -0.1004, -0.0271, -0.0294,  0.2482, -0.0418,  0.1440,\n",
      "          0.2275,  0.0723,  0.1619],\n",
      "        [ 0.0113, -0.0566, -0.0151, -0.0156,  0.2097, -0.0417,  0.1442,\n",
      "          0.1792,  0.0307,  0.1285],\n",
      "        [-0.0178, -0.0857, -0.0281, -0.0128,  0.2599, -0.0311,  0.1490,\n",
      "          0.1514, -0.0241,  0.0941],\n",
      "        [ 0.0252, -0.0750, -0.0652, -0.0669,  0.2448, -0.0804,  0.1532,\n",
      "          0.2499,  0.0909,  0.0965],\n",
      "        [ 0.0258, -0.0423, -0.0536, -0.0167,  0.2573, -0.0742,  0.1605,\n",
      "          0.1694,  0.0658,  0.0986],\n",
      "        [-0.0067, -0.0496, -0.0737, -0.0806,  0.1756, -0.0528,  0.0926,\n",
      "          0.2246, -0.0292,  0.0783],\n",
      "        [ 0.0273, -0.0744, -0.0460, -0.0089,  0.1720, -0.0040,  0.1842,\n",
      "          0.2054,  0.0653,  0.0971],\n",
      "        [-0.0253, -0.1136, -0.0436, -0.1227,  0.1751, -0.0526,  0.0960,\n",
      "          0.2382,  0.1268,  0.0398],\n",
      "        [-0.0143, -0.0478, -0.0037, -0.0061,  0.1513, -0.0392,  0.0905,\n",
      "          0.2500,  0.0192,  0.0396],\n",
      "        [-0.0278, -0.0987,  0.0149, -0.0218,  0.2310, -0.0475,  0.0947,\n",
      "          0.2463,  0.0346,  0.0820],\n",
      "        [ 0.0374, -0.0334, -0.0577, -0.0333,  0.2395, -0.0593,  0.1607,\n",
      "          0.1927,  0.1670,  0.0805],\n",
      "        [ 0.0082, -0.0996, -0.0848, -0.0421,  0.1581, -0.0057,  0.1983,\n",
      "          0.1869,  0.0379,  0.0927],\n",
      "        [-0.0503,  0.0029, -0.0117, -0.0480,  0.1896, -0.0714,  0.1279,\n",
      "          0.2005,  0.0476,  0.0741],\n",
      "        [ 0.0363, -0.0461, -0.0352, -0.0121,  0.2298, -0.0301,  0.0925,\n",
      "          0.1994,  0.0201,  0.0691],\n",
      "        [-0.0162, -0.0942,  0.0282, -0.0402,  0.2386, -0.0443,  0.0990,\n",
      "          0.2372,  0.0656,  0.0867],\n",
      "        [ 0.0031, -0.0435, -0.0297,  0.0413,  0.1964, -0.0600,  0.1029,\n",
      "          0.1806,  0.0081,  0.0757],\n",
      "        [-0.0587, -0.0766,  0.0319,  0.0221,  0.2505, -0.0459,  0.1121,\n",
      "          0.2242,  0.0493,  0.0888],\n",
      "        [-0.0395, -0.0531, -0.0763, -0.0981,  0.2966, -0.1202,  0.1355,\n",
      "          0.2549,  0.0493,  0.1002],\n",
      "        [ 0.0255,  0.0011, -0.0325, -0.0098,  0.1832, -0.0029,  0.0540,\n",
      "          0.1834,  0.0699,  0.0123],\n",
      "        [-0.0124, -0.0831, -0.0533,  0.0014,  0.1894, -0.0184,  0.1467,\n",
      "          0.2096, -0.0033,  0.0944],\n",
      "        [-0.0554, -0.0631, -0.0065,  0.0299,  0.2278, -0.0323,  0.1693,\n",
      "          0.1780,  0.0218,  0.1188],\n",
      "        [-0.0013, -0.0458, -0.0338,  0.0138,  0.2464, -0.0479,  0.1700,\n",
      "          0.1881,  0.0340,  0.1147],\n",
      "        [ 0.0376,  0.0123, -0.0923, -0.0471,  0.1898, -0.0310,  0.1771,\n",
      "          0.2308,  0.0914,  0.0557],\n",
      "        [ 0.1077, -0.0810, -0.1156, -0.1460,  0.1916, -0.0456,  0.1478,\n",
      "          0.2635,  0.0538,  0.1521],\n",
      "        [-0.0119, -0.0304, -0.0118, -0.0087,  0.2198, -0.1043,  0.1261,\n",
      "          0.1818,  0.0578,  0.0148],\n",
      "        [ 0.0230, -0.0902, -0.0329,  0.0155,  0.1645, -0.0145,  0.1420,\n",
      "          0.1578,  0.0419,  0.1587],\n",
      "        [ 0.0405, -0.0965, -0.0648, -0.1035,  0.1502,  0.0083,  0.0939,\n",
      "          0.2615,  0.0325,  0.0674],\n",
      "        [-0.0669, -0.0637,  0.0522,  0.0218,  0.2427, -0.0603,  0.0790,\n",
      "          0.2351,  0.0325,  0.0552],\n",
      "        [ 0.0530, -0.0929, -0.0396, -0.0137,  0.1366,  0.0124,  0.1318,\n",
      "          0.2149,  0.0174,  0.0983],\n",
      "        [ 0.0387, -0.0122, -0.0578, -0.0003,  0.1719, -0.0269,  0.1369,\n",
      "          0.1943,  0.0650,  0.0741],\n",
      "        [-0.0384, -0.1418, -0.0189, -0.0250,  0.0855, -0.0166,  0.1036,\n",
      "          0.2321,  0.0719,  0.0663],\n",
      "        [ 0.0392, -0.0643, -0.0192, -0.0665,  0.0945, -0.0244,  0.0896,\n",
      "          0.1626,  0.0712,  0.0935],\n",
      "        [ 0.0681, -0.0564, -0.0038, -0.0747,  0.2001, -0.0496,  0.0842,\n",
      "          0.2540,  0.0500,  0.0648],\n",
      "        [-0.0891, -0.1052, -0.0016, -0.0439,  0.1051, -0.0501,  0.0809,\n",
      "          0.2072,  0.0098,  0.0224],\n",
      "        [-0.0045, -0.0086,  0.0012,  0.0082,  0.2720, -0.0572,  0.1069,\n",
      "          0.1777, -0.0094,  0.0601],\n",
      "        [-0.0065, -0.0305, -0.0161,  0.0681,  0.2270, -0.0347,  0.1333,\n",
      "          0.1600,  0.0441,  0.0809],\n",
      "        [ 0.0182, -0.0205,  0.0024, -0.0296,  0.2151, -0.0412,  0.1193,\n",
      "          0.1871,  0.0443,  0.0665],\n",
      "        [-0.0538, -0.1047,  0.0018,  0.0283,  0.1332, -0.0139,  0.1597,\n",
      "          0.2051,  0.0908,  0.0936],\n",
      "        [-0.0024, -0.0236, -0.0212, -0.0327,  0.2350, -0.0541,  0.1100,\n",
      "          0.2248,  0.0608,  0.0792],\n",
      "        [ 0.0324, -0.1230, -0.0119, -0.0075,  0.2229, -0.0238,  0.1016,\n",
      "          0.1832,  0.0191,  0.0713],\n",
      "        [ 0.0507, -0.0686, -0.0628, -0.0468,  0.1793, -0.0374,  0.1313,\n",
      "          0.2253,  0.0776,  0.1597],\n",
      "        [ 0.0228, -0.0961, -0.0467, -0.0319,  0.1505, -0.0261,  0.1068,\n",
      "          0.1500,  0.0199,  0.0876],\n",
      "        [ 0.0639, -0.0206, -0.0710, -0.0331,  0.1816, -0.0238,  0.1341,\n",
      "          0.2062,  0.0132,  0.0990],\n",
      "        [ 0.0451, -0.0514, -0.0631, -0.0749,  0.2164, -0.0254,  0.1525,\n",
      "          0.2275,  0.0989,  0.1065],\n",
      "        [-0.0292, -0.0846, -0.0331, -0.0112,  0.2399, -0.0118,  0.1263,\n",
      "          0.2506,  0.0460,  0.0725],\n",
      "        [ 0.0369, -0.0051, -0.0955,  0.0107,  0.1658, -0.0481,  0.1611,\n",
      "          0.1132,  0.0532,  0.0907],\n",
      "        [-0.0246, -0.0537, -0.0553, -0.0239,  0.1543, -0.0175,  0.1239,\n",
      "          0.1743,  0.0341,  0.1137],\n",
      "        [-0.0275, -0.0760,  0.0334, -0.0245,  0.2272, -0.0701,  0.0776,\n",
      "          0.2476,  0.0368,  0.0669],\n",
      "        [-0.0174, -0.0374,  0.0167, -0.0585,  0.0937, -0.0462,  0.0678,\n",
      "          0.1587,  0.0982,  0.0519],\n",
      "        [ 0.0223, -0.0371, -0.0618, -0.0119,  0.2094, -0.0135,  0.1331,\n",
      "          0.1758,  0.0584,  0.0647],\n",
      "        [ 0.0051, -0.1013, -0.0328, -0.0460,  0.2110, -0.0481,  0.1141,\n",
      "          0.2000,  0.0423,  0.0770],\n",
      "        [ 0.0289, -0.0280, -0.0221,  0.0041,  0.1713, -0.0121,  0.1177,\n",
      "          0.1266,  0.0259,  0.1229],\n",
      "        [ 0.0042, -0.0729, -0.0137,  0.0022,  0.0503,  0.0028,  0.0934,\n",
      "          0.1957,  0.0157,  0.0559],\n",
      "        [ 0.0047,  0.0217, -0.0935, -0.0574,  0.1342, -0.0380,  0.0814,\n",
      "          0.1449,  0.0380,  0.0776],\n",
      "        [ 0.0474, -0.0949, -0.0450, -0.0418,  0.1406, -0.0573,  0.0988,\n",
      "          0.1880,  0.0591,  0.0263],\n",
      "        [ 0.0500, -0.0878, -0.0935, -0.0760,  0.2362, -0.0823,  0.0945,\n",
      "          0.2720,  0.0628,  0.1299],\n",
      "        [ 0.0395, -0.0485, -0.0733, -0.0800,  0.1900, -0.0280,  0.1662,\n",
      "          0.2616,  0.1319,  0.0947],\n",
      "        [-0.0115, -0.0537, -0.0166,  0.0557,  0.2530, -0.0431,  0.1543,\n",
      "          0.1651,  0.0680,  0.1101],\n",
      "        [-0.0440, -0.0464, -0.0344, -0.0149,  0.1972, -0.0795,  0.1692,\n",
      "          0.2989,  0.0460,  0.0703],\n",
      "        [ 0.0254, -0.0363,  0.0248, -0.0360,  0.2360, -0.0868,  0.1014,\n",
      "          0.2347,  0.0984,  0.0852],\n",
      "        [ 0.0493, -0.0562, -0.0406, -0.0301,  0.1366, -0.0254,  0.0659,\n",
      "          0.1789,  0.0313, -0.0032],\n",
      "        [ 0.0059,  0.0285, -0.0441, -0.0283,  0.2068, -0.0525,  0.1021,\n",
      "          0.1980,  0.0160,  0.0850],\n",
      "        [ 0.0090, -0.0025, -0.0561, -0.0517,  0.1845, -0.0683,  0.1344,\n",
      "          0.1867,  0.0586,  0.0468]])\n"
     ]
    }
   ],
   "source": [
    "# Build a feed-forward network\n",
    "model = nn.Sequential(nn.Linear(784, 128),\n",
    "                      nn.ReLU(),\n",
    "                      nn.Linear(128, 64),\n",
    "                      nn.ReLU(),\n",
    "                      nn.Linear(64, 10))\n",
    "\n",
    "# Define the loss\n",
    "criterion = nn.CrossEntropyLoss()\n",
    "\n",
    "# Get our data\n",
    "images, labels = next(iter(trainloader))\n",
    "# Flatten images\n",
    "images = images.view(images.shape[0], -1)\n",
    "\n",
    "# Forward pass, get our logits\n",
    "logits = model(images)\n",
    "# Calculate the loss with the logits and the labels\n",
    "loss = criterion(logits, labels)\n",
    "\n",
    "print(logits)"
   ]
  },
  {
   "cell_type": "markdown",
   "metadata": {},
   "source": [
    "In my experience it's more convenient to build the model with a log-softmax output using `nn.LogSoftmax` or `F.log_softmax` ([documentation](https://pytorch.org/docs/stable/nn.html#torch.nn.LogSoftmax)). Then you can get the actual probabilities by taking the exponential `torch.exp(output)`. With a log-softmax output, you want to use the negative log likelihood loss, `nn.NLLLoss` ([documentation](https://pytorch.org/docs/stable/nn.html#torch.nn.NLLLoss)).\n",
    "\n",
    ">**Exercise:** Build a model that returns the log-softmax as the output and calculate the loss using the negative log likelihood loss. Note that for `nn.LogSoftmax` and `F.log_softmax` you'll need to set the `dim` keyword argument appropriately. `dim=0` calculates softmax across the rows, so each column sums to 1, while `dim=1` calculates across the columns so each row sums to 1. Think about what you want the output to be and choose `dim` appropriately."
   ]
  },
  {
   "cell_type": "code",
   "execution_count": 4,
   "metadata": {},
   "outputs": [
    {
     "name": "stdout",
     "output_type": "stream",
     "text": [
      "tensor(2.3168)\n"
     ]
    }
   ],
   "source": [
    "# TODO: Build a feed-forward network\n",
    "model = nn.Sequential(nn.Linear(784,123),\n",
    "                    nn.ReLU(),\n",
    "                    nn.Linear(123,60),\n",
    "                    nn.ReLU(),\n",
    "                    nn.Linear(60,10),\n",
    "                    nn.LogSoftmax(dim=1))\n",
    "\n",
    "# TODO: Define the loss\n",
    "criterion = nn.NLLLoss()\n",
    "\n",
    "### Run this to check your work\n",
    "# Get our data\n",
    "images, labels = next(iter(trainloader))\n",
    "# Flatten images\n",
    "images = images.view(images.shape[0], -1)\n",
    "\n",
    "# Forward pass, get our logits\n",
    "logits = model(images)\n",
    "# Calculate the loss with the logits and the labels\n",
    "loss = criterion(logits, labels)\n",
    "\n",
    "print(loss)"
   ]
  },
  {
   "cell_type": "markdown",
   "metadata": {},
   "source": [
    "## Autograd\n",
    "\n",
    "Now that we know how to calculate a loss, how do we use it to perform backpropagation? Torch provides a module, `autograd`, for automatically calculating the gradients of tensors. We can use it to calculate the gradients of all our parameters with respect to the loss. Autograd works by keeping track of operations performed on tensors, then going backwards through those operations, calculating gradients along the way. To make sure PyTorch keeps track of operations on a tensor and calculates the gradients, you need to set `requires_grad = True` on a tensor. You can do this at creation with the `requires_grad` keyword, or at any time with `x.requires_grad_(True)`.\n",
    "\n",
    "You can turn off gradients for a block of code with the `torch.no_grad()` content:\n",
    "```python\n",
    "x = torch.zeros(1, requires_grad=True)\n",
    ">>> with torch.no_grad():\n",
    "...     y = x * 2\n",
    ">>> y.requires_grad\n",
    "False\n",
    "```\n",
    "\n",
    "Also, you can turn on or off gradients altogether with `torch.set_grad_enabled(True|False)`.\n",
    "\n",
    "The gradients are computed with respect to some variable `z` with `z.backward()`. This does a backward pass through the operations that created `z`."
   ]
  },
  {
   "cell_type": "code",
   "execution_count": null,
   "metadata": {},
   "outputs": [],
   "source": [
    "x = torch.randn(2,2, requires_grad=True)\n",
    "print(x)"
   ]
  },
  {
   "cell_type": "code",
   "execution_count": null,
   "metadata": {},
   "outputs": [],
   "source": [
    "y = x**2\n",
    "print(y)"
   ]
  },
  {
   "cell_type": "markdown",
   "metadata": {},
   "source": [
    "Below we can see the operation that created `y`, a power operation `PowBackward0`."
   ]
  },
  {
   "cell_type": "code",
   "execution_count": null,
   "metadata": {},
   "outputs": [],
   "source": [
    "## grad_fn shows the function that generated this variable\n",
    "print(y.grad_fn)"
   ]
  },
  {
   "cell_type": "markdown",
   "metadata": {},
   "source": [
    "The autgrad module keeps track of these operations and knows how to calculate the gradient for each one. In this way, it's able to calculate the gradients for a chain of operations, with respect to any one tensor. Let's reduce the tensor `y` to a scalar value, the mean."
   ]
  },
  {
   "cell_type": "code",
   "execution_count": null,
   "metadata": {},
   "outputs": [],
   "source": [
    "z = y.mean()\n",
    "print(z)"
   ]
  },
  {
   "cell_type": "markdown",
   "metadata": {},
   "source": [
    "You can check the gradients for `x` and `y` but they are empty currently."
   ]
  },
  {
   "cell_type": "code",
   "execution_count": null,
   "metadata": {},
   "outputs": [],
   "source": [
    "print(x.grad)"
   ]
  },
  {
   "cell_type": "markdown",
   "metadata": {},
   "source": [
    "To calculate the gradients, you need to run the `.backward` method on a Variable, `z` for example. This will calculate the gradient for `z` with respect to `x`\n",
    "\n",
    "$$\n",
    "\\frac{\\partial z}{\\partial x} = \\frac{\\partial}{\\partial x}\\left[\\frac{1}{n}\\sum_i^n x_i^2\\right] = \\frac{x}{2}\n",
    "$$"
   ]
  },
  {
   "cell_type": "code",
   "execution_count": null,
   "metadata": {},
   "outputs": [],
   "source": [
    "z.backward()\n",
    "print(x.grad)\n",
    "print(x/2)"
   ]
  },
  {
   "cell_type": "markdown",
   "metadata": {},
   "source": [
    "These gradients calculations are particularly useful for neural networks. For training we need the gradients of the weights with respect to the cost. With PyTorch, we run data forward through the network to calculate the loss, then, go backwards to calculate the gradients with respect to the loss. Once we have the gradients we can make a gradient descent step. "
   ]
  },
  {
   "cell_type": "markdown",
   "metadata": {},
   "source": [
    "## Loss and Autograd together\n",
    "\n",
    "When we create a network with PyTorch, all of the parameters are initialized with `requires_grad = True`. This means that when we calculate the loss and call `loss.backward()`, the gradients for the parameters are calculated. These gradients are used to update the weights with gradient descent. Below you can see an example of calculating the gradients using a backwards pass."
   ]
  },
  {
   "cell_type": "code",
   "execution_count": 6,
   "metadata": {},
   "outputs": [],
   "source": [
    "# Build a feed-forward network\n",
    "model = nn.Sequential(nn.Linear(784, 128),\n",
    "                      nn.ReLU(),\n",
    "                      nn.Linear(128, 64),\n",
    "                      nn.ReLU(),\n",
    "                      nn.Linear(64, 10),\n",
    "                      nn.LogSoftmax(dim=1))\n",
    "\n",
    "criterion = nn.NLLLoss()\n",
    "images, labels = next(iter(trainloader))\n",
    "images = images.view(images.shape[0], -1)\n",
    "\n",
    "logits = model(images)\n",
    "loss = criterion(logits, labels)"
   ]
  },
  {
   "cell_type": "code",
   "execution_count": 7,
   "metadata": {},
   "outputs": [
    {
     "name": "stdout",
     "output_type": "stream",
     "text": [
      "Before backward pass: \n",
      " None\n",
      "After backward pass: \n",
      " tensor(1.00000e-02 *\n",
      "       [[-0.0613, -0.0613, -0.0613,  ..., -0.0613, -0.0613, -0.0613],\n",
      "        [-0.1046, -0.1046, -0.1046,  ..., -0.1046, -0.1046, -0.1046],\n",
      "        [ 0.0168,  0.0168,  0.0168,  ...,  0.0168,  0.0168,  0.0168],\n",
      "        ...,\n",
      "        [-0.0608, -0.0608, -0.0608,  ..., -0.0608, -0.0608, -0.0608],\n",
      "        [-0.1809, -0.1809, -0.1809,  ..., -0.1809, -0.1809, -0.1809],\n",
      "        [ 0.0023,  0.0023,  0.0023,  ...,  0.0023,  0.0023,  0.0023]])\n"
     ]
    }
   ],
   "source": [
    "print('Before backward pass: \\n', model[0].weight.grad)\n",
    "\n",
    "loss.backward()\n",
    "\n",
    "print('After backward pass: \\n', model[0].weight.grad)"
   ]
  },
  {
   "cell_type": "markdown",
   "metadata": {},
   "source": [
    "## Training the network!\n",
    "\n",
    "There's one last piece we need to start training, an optimizer that we'll use to update the weights with the gradients. We get these from PyTorch's [`optim` package](https://pytorch.org/docs/stable/optim.html). For example we can use stochastic gradient descent with `optim.SGD`. You can see how to define an optimizer below."
   ]
  },
  {
   "cell_type": "code",
   "execution_count": 8,
   "metadata": {},
   "outputs": [],
   "source": [
    "from torch import optim\n",
    "\n",
    "# Optimizers require the parameters to optimize and a learning rate\n",
    "optimizer = optim.SGD(model.parameters(), lr=0.01)"
   ]
  },
  {
   "cell_type": "markdown",
   "metadata": {},
   "source": [
    "Now we know how to use all the individual parts so it's time to see how they work together. Let's consider just one learning step before looping through all the data. The general process with PyTorch:\n",
    "\n",
    "* Make a forward pass through the network \n",
    "* Use the network output to calculate the loss\n",
    "* Perform a backward pass through the network with `loss.backward()` to calculate the gradients\n",
    "* Take a step with the optimizer to update the weights\n",
    "\n",
    "Below I'll go through one training step and print out the weights and gradients so you can see how it changes. Note that I have a line of code `optimizer.zero_grad()`. When you do multiple backwards passes with the same parameters, the gradients are accumulated. This means that you need to zero the gradients on each training pass or you'll retain gradients from previous training batches."
   ]
  },
  {
   "cell_type": "code",
   "execution_count": 9,
   "metadata": {},
   "outputs": [
    {
     "name": "stdout",
     "output_type": "stream",
     "text": [
      "Initial weights -  Parameter containing:\n",
      "tensor([[ 1.0510e-02,  1.4563e-02,  2.3253e-02,  ...,  1.1950e-02,\n",
      "          7.8863e-03,  2.8628e-02],\n",
      "        [ 7.2032e-03, -9.7967e-03, -2.6920e-02,  ...,  2.4829e-02,\n",
      "         -4.3767e-03,  1.3177e-03],\n",
      "        [-2.3472e-02,  2.2428e-02, -3.0843e-02,  ..., -3.0308e-02,\n",
      "          2.5249e-02, -1.4258e-02],\n",
      "        ...,\n",
      "        [-3.3582e-02,  2.0292e-03,  2.5088e-02,  ..., -1.1324e-02,\n",
      "          3.0934e-02, -3.3127e-02],\n",
      "        [-2.2441e-02, -3.2209e-02, -2.5517e-02,  ...,  4.2193e-03,\n",
      "          1.7369e-02,  2.6742e-02],\n",
      "        [ 2.8226e-02,  2.7010e-02, -2.4395e-02,  ...,  3.2817e-02,\n",
      "         -2.4531e-02,  4.0449e-03]])\n",
      "Gradient - tensor(1.00000e-02 *\n",
      "       [[-0.0719, -0.0719, -0.0719,  ..., -0.0719, -0.0719, -0.0719],\n",
      "        [-0.0994, -0.0994, -0.0994,  ..., -0.0994, -0.0994, -0.0994],\n",
      "        [-0.1551, -0.1551, -0.1551,  ..., -0.1551, -0.1551, -0.1551],\n",
      "        ...,\n",
      "        [ 0.0504,  0.0504,  0.0504,  ...,  0.0504,  0.0504,  0.0504],\n",
      "        [-0.1408, -0.1408, -0.1408,  ..., -0.1408, -0.1408, -0.1408],\n",
      "        [-0.3023, -0.3023, -0.3023,  ..., -0.3023, -0.3023, -0.3023]])\n"
     ]
    }
   ],
   "source": [
    "print('Initial weights - ', model[0].weight)\n",
    "\n",
    "images, labels = next(iter(trainloader))\n",
    "images.resize_(64, 784)\n",
    "\n",
    "# Clear the gradients, do this because gradients are accumulated\n",
    "optimizer.zero_grad()\n",
    "\n",
    "# Forward pass, then backward pass, then update weights\n",
    "output = model.forward(images)\n",
    "loss = criterion(output, labels)\n",
    "loss.backward()\n",
    "print('Gradient -', model[0].weight.grad)"
   ]
  },
  {
   "cell_type": "code",
   "execution_count": 10,
   "metadata": {},
   "outputs": [
    {
     "name": "stdout",
     "output_type": "stream",
     "text": [
      "Updated weights -  Parameter containing:\n",
      "tensor([[ 1.0517e-02,  1.4570e-02,  2.3260e-02,  ...,  1.1958e-02,\n",
      "          7.8935e-03,  2.8635e-02],\n",
      "        [ 7.2131e-03, -9.7868e-03, -2.6910e-02,  ...,  2.4839e-02,\n",
      "         -4.3667e-03,  1.3276e-03],\n",
      "        [-2.3457e-02,  2.2443e-02, -3.0827e-02,  ..., -3.0293e-02,\n",
      "          2.5264e-02, -1.4243e-02],\n",
      "        ...,\n",
      "        [-3.3587e-02,  2.0241e-03,  2.5083e-02,  ..., -1.1329e-02,\n",
      "          3.0929e-02, -3.3132e-02],\n",
      "        [-2.2427e-02, -3.2195e-02, -2.5503e-02,  ...,  4.2334e-03,\n",
      "          1.7383e-02,  2.6756e-02],\n",
      "        [ 2.8256e-02,  2.7040e-02, -2.4364e-02,  ...,  3.2847e-02,\n",
      "         -2.4501e-02,  4.0752e-03]])\n"
     ]
    }
   ],
   "source": [
    "# Take an update step and few the new weights\n",
    "optimizer.step()\n",
    "print('Updated weights - ', model[0].weight)"
   ]
  },
  {
   "cell_type": "markdown",
   "metadata": {},
   "source": [
    "### Training for real\n",
    "\n",
    "Now we'll put this algorithm into a loop so we can go through all the images. Some nomenclature, one pass through the entire dataset is called an *epoch*. So here we're going to loop through `trainloader` to get our training batches. For each batch, we'll doing a training pass where we calculate the loss, do a backwards pass, and update the weights.\n",
    "\n",
    ">**Exercise:** Implement the training pass for our network. If you implemented it correctly, you should see the training loss drop with each epoch."
   ]
  },
  {
   "cell_type": "code",
   "execution_count": 15,
   "metadata": {},
   "outputs": [
    {
     "name": "stdout",
     "output_type": "stream",
     "text": [
      "Training loss: 1.9350661580750683\n",
      "Training loss: 0.8700109629997058\n",
      "Training loss: 0.5206215109652294\n",
      "Training loss: 0.42849679702698296\n",
      "Training loss: 0.3860832960811505\n"
     ]
    }
   ],
   "source": [
    "## Your solution here\n",
    "\n",
    "model = nn.Sequential(nn.Linear(784, 128),\n",
    "                      nn.ReLU(),\n",
    "                      nn.Linear(128, 64),\n",
    "                      nn.ReLU(),\n",
    "                      nn.Linear(64, 10),\n",
    "                      nn.LogSoftmax(dim=1))\n",
    "\n",
    "criterion = nn.NLLLoss()\n",
    "optimizer = optim.SGD(model.parameters(), lr=0.003)\n",
    "\n",
    "epochs = 5\n",
    "for e in range(epochs):\n",
    "    running_loss = 0\n",
    "    for images, labels in trainloader:\n",
    "        # Flatten MNIST images into a 784 long vector\n",
    "        images = images.view(images.shape[0], -1)\n",
    "        optimizer.zero_grad()\n",
    "\n",
    "        # TODO: Training pass\n",
    "        output = model.forward(images)\n",
    "        loss = criterion(output, labels)\n",
    "        loss.backward()\n",
    "        optimizer.step()\n",
    "        running_loss += loss.item()\n",
    "    else:\n",
    "        print(f\"Training loss: {running_loss/len(trainloader)}\")"
   ]
  },
  {
   "cell_type": "markdown",
   "metadata": {},
   "source": [
    "With the network trained, we can check out it's predictions."
   ]
  },
  {
   "cell_type": "code",
   "execution_count": 28,
   "metadata": {},
   "outputs": [
    {
     "data": {
      "image/png": "[encoded data removed]",
      "text/plain": [
       "<matplotlib.figure.Figure at 0x7f9f4cd5c0b8>"
      ]
     },
     "metadata": {
      "needs_background": "light"
     },
     "output_type": "display_data"
    }
   ],
   "source": [
    "%matplotlib inline\n",
    "import helper\n",
    "\n",
    "images, labels = next(iter(trainloader))\n",
    "\n",
    "img = images[0].view(1, 784)\n",
    "# Turn off gradients to speed up this part\n",
    "with torch.no_grad():\n",
    "    logits = model.forward(img)\n",
    "\n",
    "# Output of the network are logits, need to take softmax for probabilities\n",
    "ps = F.softmax(logits, dim=1)\n",
    "helper.view_classify(img.view(1, 28, 28), ps)"
   ]
  },
  {
   "cell_type": "markdown",
   "metadata": {},
   "source": [
    "Now our network is brilliant. It can accurately predict the digits in our images. Next up you'll write the code for training a neural network on a more complex dataset."
   ]
  },
  {
   "cell_type": "code",
   "execution_count": null,
   "metadata": {},
   "outputs": [],
   "source": []
  }
 ],
 "metadata": {
  "kernelspec": {
   "display_name": "Python 3",
   "language": "python",
   "name": "python3"
  },
  "language_info": {
   "codemirror_mode": {
    "name": "ipython",
    "version": 3
   },
   "file_extension": ".py",
   "mimetype": "text/x-python",
   "name": "python",
   "nbconvert_exporter": "python",
   "pygments_lexer": "ipython3",
   "version": "3.6.3"
  }
 },
 "nbformat": 4,
 "nbformat_minor": 2
}
